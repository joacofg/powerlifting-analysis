{
 "cells": [
  {
   "cell_type": "markdown",
   "id": "8b169b8e-99eb-42af-a1c1-7145673f2725",
   "metadata": {},
   "source": [
    "# Federations analysis."
   ]
  },
  {
   "cell_type": "code",
   "execution_count": 1,
   "id": "49af17b6-3b9e-4ebc-932d-d9acf827d9e4",
   "metadata": {},
   "outputs": [],
   "source": [
    "import pandas as pd\n",
    "import matplotlib.pyplot as plt\n",
    "import seaborn as sns\n",
    "\n",
    "# Federation comparison and standards analysis\n",
    "def analyze_federation_standards():\n",
    "    meets_df = pd.read_csv('meets.csv')\n",
    "    lifters_df = pd.read_csv('openpowerlifting.csv')\n",
    "    \n",
    "    # Merge datasets\n",
    "    combined_df = pd.merge(lifters_df, meets_df, on='MeetID')\n",
    "    \n",
    "    # Analysis by federation\n",
    "    return combined_df.groupby('Federation').agg({\n",
    "        'TotalKg': ['mean', 'std', 'count'],\n",
    "        'Wilks': ['mean', 'std']\n",
    "    })"
   ]
  }
 ],
 "metadata": {
  "kernelspec": {
   "display_name": "Python (powerlifting)",
   "language": "python",
   "name": "powerlifting-venv"
  },
  "language_info": {
   "codemirror_mode": {
    "name": "ipython",
    "version": 3
   },
   "file_extension": ".py",
   "mimetype": "text/x-python",
   "name": "python",
   "nbconvert_exporter": "python",
   "pygments_lexer": "ipython3",
   "version": "3.12.5"
  }
 },
 "nbformat": 4,
 "nbformat_minor": 5
}
