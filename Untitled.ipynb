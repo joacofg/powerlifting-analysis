{
 "cells": [
  {
   "cell_type": "markdown",
   "id": "8f845d82-8c39-44c7-ba4a-b3124bb27177",
   "metadata": {},
   "source": [
    "# Athlete profiles."
   ]
  },
  {
   "cell_type": "code",
   "execution_count": 1,
   "id": "b852675f-6f9c-40d8-a414-4aa0c13ff54b",
   "metadata": {},
   "outputs": [],
   "source": [
    "import pandas as pd\n",
    "import matplotlib.pyplot as plt\n",
    "import seaborn as sns\n",
    "\n",
    "# Load data\n",
    "lifters_df = pd.read_csv('openpowerlifting.csv')\n",
    "\n",
    "# Athlete career progression analysis\n",
    "def analyze_athlete_progression(athlete_name):\n",
    "    athlete_data = lifters_df[lifters_df['Name'] == athlete_name].sort_values('Date')\n",
    "    return athlete_data\n",
    "\n",
    "# Top performers analysis\n",
    "def get_top_performers(n=10):\n",
    "    return lifters_df.nlargest(n, 'Wilks')[['Name', 'Sex', 'WeightClassKg', 'TotalKg', 'Wilks']]"
   ]
  }
 ],
 "metadata": {
  "kernelspec": {
   "display_name": "Python (powerlifting)",
   "language": "python",
   "name": "powerlifting-venv"
  },
  "language_info": {
   "codemirror_mode": {
    "name": "ipython",
    "version": 3
   },
   "file_extension": ".py",
   "mimetype": "text/x-python",
   "name": "python",
   "nbconvert_exporter": "python",
   "pygments_lexer": "ipython3",
   "version": "3.12.5"
  }
 },
 "nbformat": 4,
 "nbformat_minor": 5
}
